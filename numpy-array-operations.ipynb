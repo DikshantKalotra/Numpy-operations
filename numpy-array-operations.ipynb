{
 "cells": [
  {
   "cell_type": "markdown",
   "metadata": {
    "id": "-vmoFqG50EQ_"
   },
   "source": [
    "# Numpy\n",
    "\n",
    "\n",
    "### Numpy and its 5 functions\n",
    "\n",
    "Numpy is a Python library which used for working on arrays. Its fucntions are also used in working on linear algebra and matrices. Here are the 5 out of many fucntions in Numpy:-\n",
    "\n",
    "- `numpy.concatenate((a1, a2, ...), axis=0, out=None, dtype=None, casting=\"same_kind\")`\n",
    "- `numpy.reciprocal(x, /, out=None, *, where=True, casting='same_kind', order='K', dtype=None, subok=True[, signature, extobj]) = <ufunc 'reciprocal'>`\n",
    "- `numpy.unravel_index(indices, shape, order='C')` \n",
    "- `numpy.tile(A, reps)`\n",
    "- `numpy.pad(arr, pad_width, mode='constant', **kwargs)` "
   ]
  },
  {
   "cell_type": "markdown",
   "metadata": {
    "id": "BhLZHeHo0ERB"
   },
   "source": [
    "Let's begin by importing Numpy and listing out the functions covered in this notebook."
   ]
  },
  {
   "cell_type": "code",
   "execution_count": 5,
   "metadata": {
    "executionInfo": {
     "elapsed": 7,
     "status": "ok",
     "timestamp": 1625123366775,
     "user": {
      "displayName": "Dikshant kalotra",
      "photoUrl": "https://lh3.googleusercontent.com/a-/AOh14GizJbuok-R4gMPHWAfoZjjXOH-Z-hZ7ojZuG5CJ=s64",
      "userId": "17465417811836548495"
     },
     "user_tz": -330
    },
    "id": "q621eSyl0ERC"
   },
   "outputs": [],
   "source": [
    "import numpy as np"
   ]
  },
  {
   "cell_type": "code",
   "execution_count": 6,
   "metadata": {
    "executionInfo": {
     "elapsed": 403,
     "status": "ok",
     "timestamp": 1625123682469,
     "user": {
      "displayName": "Dikshant kalotra",
      "photoUrl": "https://lh3.googleusercontent.com/a-/AOh14GizJbuok-R4gMPHWAfoZjjXOH-Z-hZ7ojZuG5CJ=s64",
      "userId": "17465417811836548495"
     },
     "user_tz": -330
    },
    "id": "kfmD6J2n0ERC"
   },
   "outputs": [],
   "source": [
    "function1 = np.concatenate    # It is used to concatenate two arrays into one along a particular existing axis\n",
    "function2 = np.reciprocal     # It is used to return the reciprocal of the argument, element-wise.\n",
    "function3 = np.unravel_index  # It is used to convert a flat index or array of flat indices into a tuple of coordinate arrays.\n",
    "function4 = np.tile           # It is used to construct an array by repeating A the number of times given by reps.\n",
    "function5 = np.pad            # It is used to pad an array"
   ]
  },
  {
   "cell_type": "code",
   "execution_count": 8,
   "metadata": {
    "colab": {
     "base_uri": "https://localhost:8080/"
    },
    "executionInfo": {
     "elapsed": 621,
     "status": "ok",
     "timestamp": 1625123497331,
     "user": {
      "displayName": "Dikshant kalotra",
      "photoUrl": "https://lh3.googleusercontent.com/a-/AOh14GizJbuok-R4gMPHWAfoZjjXOH-Z-hZ7ojZuG5CJ=s64",
      "userId": "17465417811836548495"
     },
     "user_tz": -330
    },
    "id": "3HfKXjQv6FU8",
    "outputId": "03208be6-6e04-49cb-ab17-399bb4695c93"
   },
   "outputs": [
    {
     "data": {
      "text/plain": [
       "(<function numpy.concatenate>,\n",
       " <ufunc 'reciprocal'>,\n",
       " <function numpy.unravel_index>,\n",
       " <function numpy.tile(A, reps)>,\n",
       " <function numpy.pad(array, pad_width, mode='constant', **kwargs)>)"
      ]
     },
     "execution_count": 8,
     "metadata": {},
     "output_type": "execute_result"
    }
   ],
   "source": [
    "function1, function2, function3, function4, function5"
   ]
  },
  {
   "cell_type": "markdown",
   "metadata": {
    "id": "eg4GLJZ60ERC"
   },
   "source": [
    "## Function 1 - np.concatenate\n",
    "\n",
    "It is used to join two arrays into one along a particular existing axis"
   ]
  },
  {
   "cell_type": "code",
   "execution_count": 10,
   "metadata": {
    "colab": {
     "base_uri": "https://localhost:8080/"
    },
    "executionInfo": {
     "elapsed": 420,
     "status": "ok",
     "timestamp": 1625123976367,
     "user": {
      "displayName": "Dikshant kalotra",
      "photoUrl": "https://lh3.googleusercontent.com/a-/AOh14GizJbuok-R4gMPHWAfoZjjXOH-Z-hZ7ojZuG5CJ=s64",
      "userId": "17465417811836548495"
     },
     "user_tz": -330
    },
    "id": "fftUmyjS0ERD",
    "outputId": "32537176-6a8b-4dd5-9fb3-76f24806dc91"
   },
   "outputs": [
    {
     "data": {
      "text/plain": [
       "array([[ 1.,  2.,  5.,  6.,  7.],\n",
       "       [ 3.,  4.,  8.,  9., 10.]])"
      ]
     },
     "execution_count": 10,
     "metadata": {},
     "output_type": "execute_result"
    }
   ],
   "source": [
    "# Example 1 - working\n",
    "arr1 = [[1, 2], \n",
    "        [3, 4.]]\n",
    "\n",
    "arr2 = [[5, 6, 7], \n",
    "        [8, 9, 10]]\n",
    "\n",
    "np.concatenate((arr1, arr2) , axis=1)"
   ]
  },
  {
   "cell_type": "markdown",
   "metadata": {
    "id": "IqzYGg6A0ERD"
   },
   "source": [
    "> In this example two arrays `arr1` and `arr2` are joined along the columns due to `axis=1` property."
   ]
  },
  {
   "cell_type": "code",
   "execution_count": 9,
   "metadata": {
    "colab": {
     "base_uri": "https://localhost:8080/"
    },
    "executionInfo": {
     "elapsed": 418,
     "status": "ok",
     "timestamp": 1625124721826,
     "user": {
      "displayName": "Dikshant kalotra",
      "photoUrl": "https://lh3.googleusercontent.com/a-/AOh14GizJbuok-R4gMPHWAfoZjjXOH-Z-hZ7ojZuG5CJ=s64",
      "userId": "17465417811836548495"
     },
     "user_tz": -330
    },
    "id": "GtwToF_j0ERD",
    "outputId": "793a4c45-559f-466e-a1bf-a91037b9ca58"
   },
   "outputs": [
    {
     "data": {
      "text/plain": [
       "array([ 1.,  2.,  3.,  4.,  5.,  6.,  7.,  8.,  9., 10.])"
      ]
     },
     "execution_count": 9,
     "metadata": {},
     "output_type": "execute_result"
    }
   ],
   "source": [
    "# Example 2 - working\n",
    "arr1 = [[1, 2], \n",
    "        [3, 4.]]\n",
    "\n",
    "arr2 = [[5, 6, 7], \n",
    "        [8, 9, 10]]\n",
    "\n",
    "np.concatenate((arr1, arr2) , axis=None)"
   ]
  },
  {
   "cell_type": "markdown",
   "metadata": {
    "id": "fGAhcs3p0ERE"
   },
   "source": [
    "> In this example, with `axis=None` property the arrays are joined  but are flattened.\n",
    "\n"
   ]
  },
  {
   "cell_type": "code",
   "execution_count": 11,
   "metadata": {
    "id": "_hbXW4Us0ERE",
    "outputId": "c5cf69e9-880a-4f1f-a1ea-0412862e7e65"
   },
   "outputs": [
    {
     "ename": "ValueError",
     "evalue": "all the input array dimensions for the concatenation axis must match exactly, but along dimension 1, the array at index 0 has size 2 and the array at index 1 has size 3",
     "output_type": "error",
     "traceback": [
      "\u001b[1;31m---------------------------------------------------------------------------\u001b[0m",
      "\u001b[1;31mValueError\u001b[0m                                Traceback (most recent call last)",
      "\u001b[1;32m<ipython-input-11-3386a3db1c34>\u001b[0m in \u001b[0;36m<module>\u001b[1;34m\u001b[0m\n\u001b[0;32m      6\u001b[0m         [8, 9, 10]]\n\u001b[0;32m      7\u001b[0m \u001b[1;33m\u001b[0m\u001b[0m\n\u001b[1;32m----> 8\u001b[1;33m \u001b[0mnp\u001b[0m\u001b[1;33m.\u001b[0m\u001b[0mconcatenate\u001b[0m\u001b[1;33m(\u001b[0m\u001b[1;33m(\u001b[0m\u001b[0marr1\u001b[0m\u001b[1;33m,\u001b[0m \u001b[0marr2\u001b[0m\u001b[1;33m)\u001b[0m\u001b[1;33m,\u001b[0m \u001b[0maxis\u001b[0m\u001b[1;33m=\u001b[0m\u001b[1;36m0\u001b[0m\u001b[1;33m)\u001b[0m\u001b[1;33m\u001b[0m\u001b[1;33m\u001b[0m\u001b[0m\n\u001b[0m",
      "\u001b[1;32m<__array_function__ internals>\u001b[0m in \u001b[0;36mconcatenate\u001b[1;34m(*args, **kwargs)\u001b[0m\n",
      "\u001b[1;31mValueError\u001b[0m: all the input array dimensions for the concatenation axis must match exactly, but along dimension 1, the array at index 0 has size 2 and the array at index 1 has size 3"
     ]
    }
   ],
   "source": [
    "# Example 3 - breaking (to illustrate when it breaks)\n",
    "arr1 = [[1, 2], \n",
    "        [3, 4.]]\n",
    "\n",
    "arr2 = [[5, 6, 7], \n",
    "        [8, 9, 10]]\n",
    "\n",
    "np.concatenate((arr1, arr2), axis=0)"
   ]
  },
  {
   "cell_type": "markdown",
   "metadata": {
    "id": "1POSwvaf0ERE"
   },
   "source": [
    "> In this example `axis=0` property is used which means that arrays are     intended to be joined along the rows but the no of columns in both the arrays are not same which give us the error. To remove this error simply increase the no of columns of smaller array.\n",
    "\n",
    "\n"
   ]
  },
  {
   "cell_type": "markdown",
   "metadata": {
    "id": "9n5dYAss0ERF"
   },
   "source": [
    ">When you want to join arrays , you can this function but keep in mind that while using `axis=0` property, no of coulmns in arrays must be same. Similarily while using `axis=1` property, no of rows in arrays must be same. "
   ]
  },
  {
   "cell_type": "markdown",
   "metadata": {
    "id": "W6AbGKdz0ERF"
   },
   "source": [
    "\n",
    "\n",
    "## Function 2 - np.reciprocal\n",
    "\n",
    "It is used to return the reciprocal of the argument, element-wise."
   ]
  },
  {
   "cell_type": "code",
   "execution_count": 12,
   "metadata": {
    "colab": {
     "base_uri": "https://localhost:8080/"
    },
    "executionInfo": {
     "elapsed": 420,
     "status": "ok",
     "timestamp": 1625126269917,
     "user": {
      "displayName": "Dikshant kalotra",
      "photoUrl": "https://lh3.googleusercontent.com/a-/AOh14GizJbuok-R4gMPHWAfoZjjXOH-Z-hZ7ojZuG5CJ=s64",
      "userId": "17465417811836548495"
     },
     "user_tz": -330
    },
    "id": "vYrB9dVf0ERF",
    "outputId": "e08cfe75-7889-4bec-c638-4d9f7a07cf8b"
   },
   "outputs": [
    {
     "data": {
      "text/plain": [
       "array([0.5       , 0.33333333, 0.2       , 0.16666667])"
      ]
     },
     "execution_count": 12,
     "metadata": {},
     "output_type": "execute_result"
    }
   ],
   "source": [
    "# Example 1 - working\n",
    "np.reciprocal([2., 3., 5., 6.])"
   ]
  },
  {
   "cell_type": "markdown",
   "metadata": {
    "id": "HWMN2Gt70ERF"
   },
   "source": [
    "> It can be clearly seen from the example that it returns the reciprocal of the elements in the array.\n",
    "\n"
   ]
  },
  {
   "cell_type": "code",
   "execution_count": 13,
   "metadata": {
    "colab": {
     "base_uri": "https://localhost:8080/"
    },
    "executionInfo": {
     "elapsed": 416,
     "status": "ok",
     "timestamp": 1625126753946,
     "user": {
      "displayName": "Dikshant kalotra",
      "photoUrl": "https://lh3.googleusercontent.com/a-/AOh14GizJbuok-R4gMPHWAfoZjjXOH-Z-hZ7ojZuG5CJ=s64",
      "userId": "17465417811836548495"
     },
     "user_tz": -330
    },
    "id": "RZG4vT-U0ERG",
    "outputId": "fa939ba4-6d18-4642-df8d-50ee7517490e"
   },
   "outputs": [
    {
     "data": {
      "text/plain": [
       "array([[0.5       , 0.25      , 0.04545455, 0.16666667, 0.01098901],\n",
       "       [0.24390244, 0.18867925, 0.23696682, 0.91743119, 0.12515645]])"
      ]
     },
     "execution_count": 13,
     "metadata": {},
     "output_type": "execute_result"
    }
   ],
   "source": [
    "# Example 2 - working\n",
    "np.reciprocal([[2., 4., 22., 6., 91.],\n",
    "              [4.1, 5.3, 4.22, 1.09, 7.99]])"
   ]
  },
  {
   "cell_type": "code",
   "execution_count": 14,
   "metadata": {
    "colab": {
     "base_uri": "https://localhost:8080/"
    },
    "executionInfo": {
     "elapsed": 422,
     "status": "ok",
     "timestamp": 1625126630876,
     "user": {
      "displayName": "Dikshant kalotra",
      "photoUrl": "https://lh3.googleusercontent.com/a-/AOh14GizJbuok-R4gMPHWAfoZjjXOH-Z-hZ7ojZuG5CJ=s64",
      "userId": "17465417811836548495"
     },
     "user_tz": -330
    },
    "id": "wZGOBM7p0ERG",
    "outputId": "932a22ac-ad0c-474b-b2fc-a92af40466d3"
   },
   "outputs": [
    {
     "name": "stderr",
     "output_type": "stream",
     "text": [
      "<ipython-input-14-eb9509866363>:2: RuntimeWarning: divide by zero encountered in reciprocal\n",
      "  np.reciprocal([2, 4, 22, 6, 91]), np.reciprocal([0, 0, 0])\n",
      "<ipython-input-14-eb9509866363>:2: RuntimeWarning: invalid value encountered in reciprocal\n",
      "  np.reciprocal([2, 4, 22, 6, 91]), np.reciprocal([0, 0, 0])\n"
     ]
    },
    {
     "data": {
      "text/plain": [
       "(array([0, 0, 0, 0, 0], dtype=int32),\n",
       " array([-2147483648, -2147483648, -2147483648], dtype=int32))"
      ]
     },
     "execution_count": 14,
     "metadata": {},
     "output_type": "execute_result"
    }
   ],
   "source": [
    "# Example 3 - breaking (to illustrate when it breaks)\n",
    "np.reciprocal([2, 4, 22, 6, 91]), np.reciprocal([0, 0, 0])"
   ]
  },
  {
   "cell_type": "markdown",
   "metadata": {
    "id": "iANS8Ad50ERG"
   },
   "source": [
    "> It displays 0 for all the elements of first array because all of them are integers and this fucntion does not work on integers. Hence their reciprocal is 0.\n",
    "\n",
    "> Also, on the array containing 0, it displays a RunTimeWarning as it cannont find the reciprocal of zero"
   ]
  },
  {
   "cell_type": "markdown",
   "metadata": {
    "id": "JU0G64Ib0ERG"
   },
   "source": [
    ">So when you want to find the recipriocal of arrays containg `float` type numbers, you can use this `numpy.reciprocal` function.\n",
    "\n",
    "\n",
    "\n"
   ]
  },
  {
   "cell_type": "markdown",
   "metadata": {
    "id": "5j4k6oQJ0ERH"
   },
   "source": [
    "## Function 3 - np.unravel_index\n",
    "\n",
    "It is used to convert a flat index or array of flat indices into a tuple of coordinate arrays."
   ]
  },
  {
   "cell_type": "code",
   "execution_count": 15,
   "metadata": {
    "colab": {
     "base_uri": "https://localhost:8080/"
    },
    "executionInfo": {
     "elapsed": 520,
     "status": "ok",
     "timestamp": 1625127719388,
     "user": {
      "displayName": "Dikshant kalotra",
      "photoUrl": "https://lh3.googleusercontent.com/a-/AOh14GizJbuok-R4gMPHWAfoZjjXOH-Z-hZ7ojZuG5CJ=s64",
      "userId": "17465417811836548495"
     },
     "user_tz": -330
    },
    "id": "u7Gia1qn0ERH",
    "outputId": "c522bfe4-6a92-4cf7-f317-5db3982fc069"
   },
   "outputs": [
    {
     "data": {
      "text/plain": [
       "(4, 2, 2)"
      ]
     },
     "execution_count": 15,
     "metadata": {},
     "output_type": "execute_result"
    }
   ],
   "source": [
    "# Example 1 - working\n",
    "np.unravel_index(100, (6,7,8), order='F')"
   ]
  },
  {
   "cell_type": "markdown",
   "metadata": {
    "id": "QiuoHyd80ERH"
   },
   "source": [
    "> In the above example, function `np.unravel_index` finds the index of 100th element in the array of size (6, 7, 8) and displays it in column-major style because of `order='F'` property.\n",
    "\n"
   ]
  },
  {
   "cell_type": "code",
   "execution_count": 16,
   "metadata": {
    "colab": {
     "base_uri": "https://localhost:8080/"
    },
    "executionInfo": {
     "elapsed": 669,
     "status": "ok",
     "timestamp": 1625127722760,
     "user": {
      "displayName": "Dikshant kalotra",
      "photoUrl": "https://lh3.googleusercontent.com/a-/AOh14GizJbuok-R4gMPHWAfoZjjXOH-Z-hZ7ojZuG5CJ=s64",
      "userId": "17465417811836548495"
     },
     "user_tz": -330
    },
    "id": "zlkYKqU80ERH",
    "outputId": "7a4c5030-28cd-4abf-910b-afd26fb615bd"
   },
   "outputs": [
    {
     "data": {
      "text/plain": [
       "(1, 5, 4)"
      ]
     },
     "execution_count": 16,
     "metadata": {},
     "output_type": "execute_result"
    }
   ],
   "source": [
    "# Example 2 - working\n",
    "np.unravel_index(100, (6,7,8), order='C')"
   ]
  },
  {
   "cell_type": "markdown",
   "metadata": {
    "id": "CgStx_fm0ERH"
   },
   "source": [
    ">In the above example, function `np.unravel_index` finds the index of 100th element in the array of size (6, 7, 8) and displays it in row-major style because of `order='C'` property. It is different from the example 1."
   ]
  },
  {
   "cell_type": "code",
   "execution_count": 17,
   "metadata": {
    "colab": {
     "base_uri": "https://localhost:8080/",
     "height": 212
    },
    "executionInfo": {
     "elapsed": 427,
     "status": "error",
     "timestamp": 1625127931161,
     "user": {
      "displayName": "Dikshant kalotra",
      "photoUrl": "https://lh3.googleusercontent.com/a-/AOh14GizJbuok-R4gMPHWAfoZjjXOH-Z-hZ7ojZuG5CJ=s64",
      "userId": "17465417811836548495"
     },
     "user_tz": -330
    },
    "id": "T80LdT1-0ERI",
    "outputId": "b2a64a1e-76ec-4abc-cebd-d071544241af"
   },
   "outputs": [
    {
     "ename": "TypeError",
     "evalue": "only int indices permitted",
     "output_type": "error",
     "traceback": [
      "\u001b[1;31m---------------------------------------------------------------------------\u001b[0m",
      "\u001b[1;31mTypeError\u001b[0m                                 Traceback (most recent call last)",
      "\u001b[1;32m<ipython-input-17-0968c4b64ea7>\u001b[0m in \u001b[0;36m<module>\u001b[1;34m\u001b[0m\n\u001b[0;32m      1\u001b[0m \u001b[1;31m# Example 3 - breaking (to illustrate when it breaks)\u001b[0m\u001b[1;33m\u001b[0m\u001b[1;33m\u001b[0m\u001b[1;33m\u001b[0m\u001b[0m\n\u001b[1;32m----> 2\u001b[1;33m \u001b[0mnp\u001b[0m\u001b[1;33m.\u001b[0m\u001b[0munravel_index\u001b[0m\u001b[1;33m(\u001b[0m\u001b[0mnp\u001b[0m\u001b[1;33m.\u001b[0m\u001b[0marray\u001b[0m\u001b[1;33m(\u001b[0m\u001b[1;33m[\u001b[0m\u001b[1;33m]\u001b[0m\u001b[1;33m)\u001b[0m\u001b[1;33m,\u001b[0m \u001b[1;33m(\u001b[0m\u001b[1;36m6\u001b[0m\u001b[1;33m,\u001b[0m\u001b[1;36m7\u001b[0m\u001b[1;33m,\u001b[0m\u001b[1;36m8\u001b[0m\u001b[1;33m)\u001b[0m\u001b[1;33m)\u001b[0m\u001b[1;33m\u001b[0m\u001b[1;33m\u001b[0m\u001b[0m\n\u001b[0m",
      "\u001b[1;32m<__array_function__ internals>\u001b[0m in \u001b[0;36munravel_index\u001b[1;34m(*args, **kwargs)\u001b[0m\n",
      "\u001b[1;31mTypeError\u001b[0m: only int indices permitted"
     ]
    }
   ],
   "source": [
    "# Example 3 - breaking (to illustrate when it breaks)\n",
    "np.unravel_index(np.array([]), (6,7,8))"
   ]
  },
  {
   "cell_type": "markdown",
   "metadata": {
    "id": "syQH_WQlLLPY"
   },
   "source": [
    "> In the above, example we are getting a `TypeError` because `[]` in numpy is a `float` value by default and `float` indices are not permitted. To avoid getting this error, use `np.array([], dtype='int')` instead of `np.array([])`"
   ]
  },
  {
   "cell_type": "markdown",
   "metadata": {
    "id": "qlocpyfuMm3B"
   },
   "source": [
    "> So , when you want to find out the index of $nth$ element in a $(i, j, k)$ shaped array , u can use this function"
   ]
  },
  {
   "cell_type": "markdown",
   "metadata": {
    "id": "BXl0l1bL0ERL"
   },
   "source": [
    " ## Function 4 - np.tile\n",
    "\n",
    "It is used to construct an array by repeating A the number of times given by reps."
   ]
  },
  {
   "cell_type": "code",
   "execution_count": 18,
   "metadata": {
    "colab": {
     "base_uri": "https://localhost:8080/"
    },
    "executionInfo": {
     "elapsed": 423,
     "status": "ok",
     "timestamp": 1625130224196,
     "user": {
      "displayName": "Dikshant kalotra",
      "photoUrl": "https://lh3.googleusercontent.com/a-/AOh14GizJbuok-R4gMPHWAfoZjjXOH-Z-hZ7ojZuG5CJ=s64",
      "userId": "17465417811836548495"
     },
     "user_tz": -330
    },
    "id": "ZzF1sxea0ERL",
    "outputId": "f1b1cd1c-0081-42ac-b382-d8847c345cb7"
   },
   "outputs": [
    {
     "data": {
      "text/plain": [
       "array([1, 3, 5, 6, 1, 3, 5, 6, 1, 3, 5, 6, 1, 3, 5, 6, 1, 3, 5, 6])"
      ]
     },
     "execution_count": 18,
     "metadata": {},
     "output_type": "execute_result"
    }
   ],
   "source": [
    "# Example 1 - working\n",
    "np.tile(np.array([1, 3, 5 ,6]) , reps=5)"
   ]
  },
  {
   "cell_type": "markdown",
   "metadata": {
    "id": "ycK1JFBy0ERL"
   },
   "source": [
    "> In the above example, the array is reapeated 5 times in one direction"
   ]
  },
  {
   "cell_type": "code",
   "execution_count": 19,
   "metadata": {
    "colab": {
     "base_uri": "https://localhost:8080/"
    },
    "executionInfo": {
     "elapsed": 407,
     "status": "ok",
     "timestamp": 1625130314398,
     "user": {
      "displayName": "Dikshant kalotra",
      "photoUrl": "https://lh3.googleusercontent.com/a-/AOh14GizJbuok-R4gMPHWAfoZjjXOH-Z-hZ7ojZuG5CJ=s64",
      "userId": "17465417811836548495"
     },
     "user_tz": -330
    },
    "id": "ND-uXZlp0ERL",
    "outputId": "1e2b76eb-d2ff-46b3-b038-99eff9445fba"
   },
   "outputs": [
    {
     "data": {
      "text/plain": [
       "array([[[[1, 3, 5, 6, 1, 3, 5, 6, 1, 3, 5, 6],\n",
       "         [1, 3, 5, 6, 1, 3, 5, 6, 1, 3, 5, 6],\n",
       "         [1, 3, 5, 6, 1, 3, 5, 6, 1, 3, 5, 6]],\n",
       "\n",
       "        [[1, 3, 5, 6, 1, 3, 5, 6, 1, 3, 5, 6],\n",
       "         [1, 3, 5, 6, 1, 3, 5, 6, 1, 3, 5, 6],\n",
       "         [1, 3, 5, 6, 1, 3, 5, 6, 1, 3, 5, 6]],\n",
       "\n",
       "        [[1, 3, 5, 6, 1, 3, 5, 6, 1, 3, 5, 6],\n",
       "         [1, 3, 5, 6, 1, 3, 5, 6, 1, 3, 5, 6],\n",
       "         [1, 3, 5, 6, 1, 3, 5, 6, 1, 3, 5, 6]]],\n",
       "\n",
       "\n",
       "       [[[1, 3, 5, 6, 1, 3, 5, 6, 1, 3, 5, 6],\n",
       "         [1, 3, 5, 6, 1, 3, 5, 6, 1, 3, 5, 6],\n",
       "         [1, 3, 5, 6, 1, 3, 5, 6, 1, 3, 5, 6]],\n",
       "\n",
       "        [[1, 3, 5, 6, 1, 3, 5, 6, 1, 3, 5, 6],\n",
       "         [1, 3, 5, 6, 1, 3, 5, 6, 1, 3, 5, 6],\n",
       "         [1, 3, 5, 6, 1, 3, 5, 6, 1, 3, 5, 6]],\n",
       "\n",
       "        [[1, 3, 5, 6, 1, 3, 5, 6, 1, 3, 5, 6],\n",
       "         [1, 3, 5, 6, 1, 3, 5, 6, 1, 3, 5, 6],\n",
       "         [1, 3, 5, 6, 1, 3, 5, 6, 1, 3, 5, 6]]],\n",
       "\n",
       "\n",
       "       [[[1, 3, 5, 6, 1, 3, 5, 6, 1, 3, 5, 6],\n",
       "         [1, 3, 5, 6, 1, 3, 5, 6, 1, 3, 5, 6],\n",
       "         [1, 3, 5, 6, 1, 3, 5, 6, 1, 3, 5, 6]],\n",
       "\n",
       "        [[1, 3, 5, 6, 1, 3, 5, 6, 1, 3, 5, 6],\n",
       "         [1, 3, 5, 6, 1, 3, 5, 6, 1, 3, 5, 6],\n",
       "         [1, 3, 5, 6, 1, 3, 5, 6, 1, 3, 5, 6]],\n",
       "\n",
       "        [[1, 3, 5, 6, 1, 3, 5, 6, 1, 3, 5, 6],\n",
       "         [1, 3, 5, 6, 1, 3, 5, 6, 1, 3, 5, 6],\n",
       "         [1, 3, 5, 6, 1, 3, 5, 6, 1, 3, 5, 6]]]])"
      ]
     },
     "execution_count": 19,
     "metadata": {},
     "output_type": "execute_result"
    }
   ],
   "source": [
    "# Example 2 - working\n",
    "np.tile(np.array([1, 3, 5, 6]), reps=(3,3,3,3))"
   ]
  },
  {
   "cell_type": "markdown",
   "metadata": {
    "id": "uRtwnnjc0ERL"
   },
   "source": [
    ">In the above example, the array is repeated in 4-dimnesions unlike in the first example, where it was repeated only in 1-dimension"
   ]
  },
  {
   "cell_type": "code",
   "execution_count": 20,
   "metadata": {
    "colab": {
     "base_uri": "https://localhost:8080/",
     "height": 296
    },
    "executionInfo": {
     "elapsed": 429,
     "status": "error",
     "timestamp": 1625130493204,
     "user": {
      "displayName": "Dikshant kalotra",
      "photoUrl": "https://lh3.googleusercontent.com/a-/AOh14GizJbuok-R4gMPHWAfoZjjXOH-Z-hZ7ojZuG5CJ=s64",
      "userId": "17465417811836548495"
     },
     "user_tz": -330
    },
    "id": "V7hXEtZW0ERM",
    "outputId": "d237141a-01db-4559-e888-364fb8571217"
   },
   "outputs": [
    {
     "ename": "TypeError",
     "evalue": "'float' object cannot be interpreted as an integer",
     "output_type": "error",
     "traceback": [
      "\u001b[1;31m---------------------------------------------------------------------------\u001b[0m",
      "\u001b[1;31mTypeError\u001b[0m                                 Traceback (most recent call last)",
      "\u001b[1;32m<ipython-input-20-532d446143e4>\u001b[0m in \u001b[0;36m<module>\u001b[1;34m\u001b[0m\n\u001b[0;32m      1\u001b[0m \u001b[1;31m# Example 3 - breaking (to illustrate when it breaks)\u001b[0m\u001b[1;33m\u001b[0m\u001b[1;33m\u001b[0m\u001b[1;33m\u001b[0m\u001b[0m\n\u001b[1;32m----> 2\u001b[1;33m \u001b[0mnp\u001b[0m\u001b[1;33m.\u001b[0m\u001b[0mtile\u001b[0m\u001b[1;33m(\u001b[0m\u001b[0mnp\u001b[0m\u001b[1;33m.\u001b[0m\u001b[0marray\u001b[0m\u001b[1;33m(\u001b[0m\u001b[1;33m[\u001b[0m\u001b[1;36m1\u001b[0m\u001b[1;33m,\u001b[0m \u001b[1;36m3\u001b[0m\u001b[1;33m,\u001b[0m \u001b[1;36m5\u001b[0m \u001b[1;33m,\u001b[0m\u001b[1;36m6\u001b[0m\u001b[1;33m]\u001b[0m\u001b[1;33m)\u001b[0m \u001b[1;33m,\u001b[0m \u001b[0mreps\u001b[0m\u001b[1;33m=\u001b[0m\u001b[1;36m5.3\u001b[0m\u001b[1;33m)\u001b[0m\u001b[1;33m\u001b[0m\u001b[1;33m\u001b[0m\u001b[0m\n\u001b[0m",
      "\u001b[1;32m<__array_function__ internals>\u001b[0m in \u001b[0;36mtile\u001b[1;34m(*args, **kwargs)\u001b[0m\n",
      "\u001b[1;32m~\\anaconda3\\lib\\site-packages\\numpy\\lib\\shape_base.py\u001b[0m in \u001b[0;36mtile\u001b[1;34m(A, reps)\u001b[0m\n\u001b[0;32m   1258\u001b[0m                 \u001b[0mc\u001b[0m \u001b[1;33m=\u001b[0m \u001b[0mc\u001b[0m\u001b[1;33m.\u001b[0m\u001b[0mreshape\u001b[0m\u001b[1;33m(\u001b[0m\u001b[1;33m-\u001b[0m\u001b[1;36m1\u001b[0m\u001b[1;33m,\u001b[0m \u001b[0mn\u001b[0m\u001b[1;33m)\u001b[0m\u001b[1;33m.\u001b[0m\u001b[0mrepeat\u001b[0m\u001b[1;33m(\u001b[0m\u001b[0mnrep\u001b[0m\u001b[1;33m,\u001b[0m \u001b[1;36m0\u001b[0m\u001b[1;33m)\u001b[0m\u001b[1;33m\u001b[0m\u001b[1;33m\u001b[0m\u001b[0m\n\u001b[0;32m   1259\u001b[0m             \u001b[0mn\u001b[0m \u001b[1;33m//=\u001b[0m \u001b[0mdim_in\u001b[0m\u001b[1;33m\u001b[0m\u001b[1;33m\u001b[0m\u001b[0m\n\u001b[1;32m-> 1260\u001b[1;33m     \u001b[1;32mreturn\u001b[0m \u001b[0mc\u001b[0m\u001b[1;33m.\u001b[0m\u001b[0mreshape\u001b[0m\u001b[1;33m(\u001b[0m\u001b[0mshape_out\u001b[0m\u001b[1;33m)\u001b[0m\u001b[1;33m\u001b[0m\u001b[1;33m\u001b[0m\u001b[0m\n\u001b[0m",
      "\u001b[1;31mTypeError\u001b[0m: 'float' object cannot be interpreted as an integer"
     ]
    }
   ],
   "source": [
    "# Example 3 - breaking (to illustrate when it breaks)\n",
    "np.tile(np.array([1, 3, 5 ,6]) , reps=5.3)"
   ]
  },
  {
   "cell_type": "markdown",
   "metadata": {
    "id": "GN1eVubL0ERM"
   },
   "source": [
    "> The above error is generated due to the use of `float` type value for `reps` attribute, instead it should be `int` value."
   ]
  },
  {
   "cell_type": "markdown",
   "metadata": {
    "id": "ifjOm2EK0ERM"
   },
   "source": [
    "> This function can be used when a particular array is to repeated a particular number of times.\n",
    "\n"
   ]
  },
  {
   "cell_type": "markdown",
   "metadata": {
    "id": "31n_Ph-s0ERM"
   },
   "source": [
    "## Function 5 - np.pad\n",
    "\n",
    "It is used to pad an array"
   ]
  },
  {
   "cell_type": "code",
   "execution_count": 21,
   "metadata": {
    "colab": {
     "base_uri": "https://localhost:8080/"
    },
    "executionInfo": {
     "elapsed": 16,
     "status": "ok",
     "timestamp": 1625131150914,
     "user": {
      "displayName": "Dikshant kalotra",
      "photoUrl": "https://lh3.googleusercontent.com/a-/AOh14GizJbuok-R4gMPHWAfoZjjXOH-Z-hZ7ojZuG5CJ=s64",
      "userId": "17465417811836548495"
     },
     "user_tz": -330
    },
    "id": "VYWkt-aZW6a_",
    "outputId": "ed6985f3-92e3-48d1-d472-f48a6f8ab3bb"
   },
   "outputs": [
    {
     "data": {
      "text/plain": [
       "array([[1, 3, 4],\n",
       "       [5, 4, 7],\n",
       "       [1, 4, 6]])"
      ]
     },
     "execution_count": 21,
     "metadata": {},
     "output_type": "execute_result"
    }
   ],
   "source": [
    "arr = np.array([[1,3, 4],[5,4,7],[1,4,6]])\n",
    "arr"
   ]
  },
  {
   "cell_type": "code",
   "execution_count": 22,
   "metadata": {
    "colab": {
     "base_uri": "https://localhost:8080/"
    },
    "executionInfo": {
     "elapsed": 401,
     "status": "ok",
     "timestamp": 1625131384119,
     "user": {
      "displayName": "Dikshant kalotra",
      "photoUrl": "https://lh3.googleusercontent.com/a-/AOh14GizJbuok-R4gMPHWAfoZjjXOH-Z-hZ7ojZuG5CJ=s64",
      "userId": "17465417811836548495"
     },
     "user_tz": -330
    },
    "id": "7bBtha2x0ERN",
    "outputId": "72d8b319-b309-4b1a-ff93-33cc79c318dc"
   },
   "outputs": [
    {
     "data": {
      "text/plain": [
       "array([[0, 0, 0, 0, 0, 0, 0],\n",
       "       [0, 0, 0, 0, 0, 0, 0],\n",
       "       [0, 0, 1, 3, 4, 0, 0],\n",
       "       [0, 0, 5, 4, 7, 0, 0],\n",
       "       [0, 0, 1, 4, 6, 0, 0],\n",
       "       [0, 0, 0, 0, 0, 0, 0],\n",
       "       [0, 0, 0, 0, 0, 0, 0]])"
      ]
     },
     "execution_count": 22,
     "metadata": {},
     "output_type": "execute_result"
    }
   ],
   "source": [
    "# Example 1 - working\n",
    "np.pad(arr, pad_width=2, mode='constant', constant_values = 0)"
   ]
  },
  {
   "cell_type": "markdown",
   "metadata": {
    "id": "ic8eGh2C0ERN"
   },
   "source": [
    "> In the above example, a border of $0's$ of width 2 is added to the following array. "
   ]
  },
  {
   "cell_type": "code",
   "execution_count": 23,
   "metadata": {
    "colab": {
     "base_uri": "https://localhost:8080/"
    },
    "executionInfo": {
     "elapsed": 413,
     "status": "ok",
     "timestamp": 1625131586716,
     "user": {
      "displayName": "Dikshant kalotra",
      "photoUrl": "https://lh3.googleusercontent.com/a-/AOh14GizJbuok-R4gMPHWAfoZjjXOH-Z-hZ7ojZuG5CJ=s64",
      "userId": "17465417811836548495"
     },
     "user_tz": -330
    },
    "id": "uYYQiqTQ0ERN",
    "outputId": "00d86cdf-d929-4d21-a01c-c43848ec561e"
   },
   "outputs": [
    {
     "data": {
      "text/plain": [
       "array([[4, 7, 5, 4, 7, 5, 4, 7],\n",
       "       [4, 6, 1, 4, 6, 1, 4, 6],\n",
       "       [3, 4, 1, 3, 4, 1, 3, 4],\n",
       "       [4, 7, 5, 4, 7, 5, 4, 7],\n",
       "       [4, 6, 1, 4, 6, 1, 4, 6],\n",
       "       [3, 4, 1, 3, 4, 1, 3, 4],\n",
       "       [4, 7, 5, 4, 7, 5, 4, 7],\n",
       "       [4, 6, 1, 4, 6, 1, 4, 6]])"
      ]
     },
     "execution_count": 23,
     "metadata": {},
     "output_type": "execute_result"
    }
   ],
   "source": [
    "# Example 2 - working\n",
    "np.pad(arr, (2,3) , 'wrap')"
   ]
  },
  {
   "cell_type": "markdown",
   "metadata": {
    "id": "LlTLezdG0ERN"
   },
   "source": [
    "> In the above example, the first values are used to pad the end and the end values are used to pad the beginning."
   ]
  },
  {
   "cell_type": "code",
   "execution_count": 24,
   "metadata": {
    "colab": {
     "base_uri": "https://localhost:8080/",
     "height": 387
    },
    "executionInfo": {
     "elapsed": 719,
     "status": "error",
     "timestamp": 1625133142797,
     "user": {
      "displayName": "Dikshant kalotra",
      "photoUrl": "https://lh3.googleusercontent.com/a-/AOh14GizJbuok-R4gMPHWAfoZjjXOH-Z-hZ7ojZuG5CJ=s64",
      "userId": "17465417811836548495"
     },
     "user_tz": -330
    },
    "id": "OL8Of_-80ERN",
    "outputId": "99fc6e5f-e5a8-4e0f-d0cb-8ca2584bb28d"
   },
   "outputs": [
    {
     "ename": "ValueError",
     "evalue": "operands could not be broadcast together with remapped shapes [original->remapped]: (3,)  and requested shape (2,2)",
     "output_type": "error",
     "traceback": [
      "\u001b[1;31m---------------------------------------------------------------------------\u001b[0m",
      "\u001b[1;31mValueError\u001b[0m                                Traceback (most recent call last)",
      "\u001b[1;32m<ipython-input-24-ac8ef77e33d6>\u001b[0m in \u001b[0;36m<module>\u001b[1;34m\u001b[0m\n\u001b[0;32m      1\u001b[0m \u001b[1;31m# Example 3 - breaking (to illustrate when it breaks)\u001b[0m\u001b[1;33m\u001b[0m\u001b[1;33m\u001b[0m\u001b[1;33m\u001b[0m\u001b[0m\n\u001b[1;32m----> 2\u001b[1;33m \u001b[0mnp\u001b[0m\u001b[1;33m.\u001b[0m\u001b[0mpad\u001b[0m\u001b[1;33m(\u001b[0m\u001b[0marr\u001b[0m\u001b[1;33m,\u001b[0m\u001b[1;33m(\u001b[0m\u001b[1;36m3\u001b[0m\u001b[1;33m,\u001b[0m\u001b[1;36m3\u001b[0m\u001b[1;33m,\u001b[0m\u001b[1;36m3\u001b[0m\u001b[1;33m)\u001b[0m\u001b[1;33m,\u001b[0m \u001b[0mmode\u001b[0m\u001b[1;33m=\u001b[0m\u001b[1;34m'constant'\u001b[0m\u001b[1;33m,\u001b[0m \u001b[0mconstant_values\u001b[0m\u001b[1;33m=\u001b[0m\u001b[1;36m0\u001b[0m\u001b[1;33m)\u001b[0m\u001b[1;33m\u001b[0m\u001b[1;33m\u001b[0m\u001b[0m\n\u001b[0m",
      "\u001b[1;32m<__array_function__ internals>\u001b[0m in \u001b[0;36mpad\u001b[1;34m(*args, **kwargs)\u001b[0m\n",
      "\u001b[1;32m~\\anaconda3\\lib\\site-packages\\numpy\\lib\\arraypad.py\u001b[0m in \u001b[0;36mpad\u001b[1;34m(array, pad_width, mode, **kwargs)\u001b[0m\n\u001b[0;32m    741\u001b[0m \u001b[1;33m\u001b[0m\u001b[0m\n\u001b[0;32m    742\u001b[0m     \u001b[1;31m# Broadcast to shape (array.ndim, 2)\u001b[0m\u001b[1;33m\u001b[0m\u001b[1;33m\u001b[0m\u001b[1;33m\u001b[0m\u001b[0m\n\u001b[1;32m--> 743\u001b[1;33m     \u001b[0mpad_width\u001b[0m \u001b[1;33m=\u001b[0m \u001b[0m_as_pairs\u001b[0m\u001b[1;33m(\u001b[0m\u001b[0mpad_width\u001b[0m\u001b[1;33m,\u001b[0m \u001b[0marray\u001b[0m\u001b[1;33m.\u001b[0m\u001b[0mndim\u001b[0m\u001b[1;33m,\u001b[0m \u001b[0mas_index\u001b[0m\u001b[1;33m=\u001b[0m\u001b[1;32mTrue\u001b[0m\u001b[1;33m)\u001b[0m\u001b[1;33m\u001b[0m\u001b[1;33m\u001b[0m\u001b[0m\n\u001b[0m\u001b[0;32m    744\u001b[0m \u001b[1;33m\u001b[0m\u001b[0m\n\u001b[0;32m    745\u001b[0m     \u001b[1;32mif\u001b[0m \u001b[0mcallable\u001b[0m\u001b[1;33m(\u001b[0m\u001b[0mmode\u001b[0m\u001b[1;33m)\u001b[0m\u001b[1;33m:\u001b[0m\u001b[1;33m\u001b[0m\u001b[1;33m\u001b[0m\u001b[0m\n",
      "\u001b[1;32m~\\anaconda3\\lib\\site-packages\\numpy\\lib\\arraypad.py\u001b[0m in \u001b[0;36m_as_pairs\u001b[1;34m(x, ndim, as_index)\u001b[0m\n\u001b[0;32m    516\u001b[0m     \u001b[1;31m# Converting the array with `tolist` seems to improve performance\u001b[0m\u001b[1;33m\u001b[0m\u001b[1;33m\u001b[0m\u001b[1;33m\u001b[0m\u001b[0m\n\u001b[0;32m    517\u001b[0m     \u001b[1;31m# when iterating and indexing the result (see usage in `pad`)\u001b[0m\u001b[1;33m\u001b[0m\u001b[1;33m\u001b[0m\u001b[1;33m\u001b[0m\u001b[0m\n\u001b[1;32m--> 518\u001b[1;33m     \u001b[1;32mreturn\u001b[0m \u001b[0mnp\u001b[0m\u001b[1;33m.\u001b[0m\u001b[0mbroadcast_to\u001b[0m\u001b[1;33m(\u001b[0m\u001b[0mx\u001b[0m\u001b[1;33m,\u001b[0m \u001b[1;33m(\u001b[0m\u001b[0mndim\u001b[0m\u001b[1;33m,\u001b[0m \u001b[1;36m2\u001b[0m\u001b[1;33m)\u001b[0m\u001b[1;33m)\u001b[0m\u001b[1;33m.\u001b[0m\u001b[0mtolist\u001b[0m\u001b[1;33m(\u001b[0m\u001b[1;33m)\u001b[0m\u001b[1;33m\u001b[0m\u001b[1;33m\u001b[0m\u001b[0m\n\u001b[0m\u001b[0;32m    519\u001b[0m \u001b[1;33m\u001b[0m\u001b[0m\n\u001b[0;32m    520\u001b[0m \u001b[1;33m\u001b[0m\u001b[0m\n",
      "\u001b[1;32m<__array_function__ internals>\u001b[0m in \u001b[0;36mbroadcast_to\u001b[1;34m(*args, **kwargs)\u001b[0m\n",
      "\u001b[1;32m~\\anaconda3\\lib\\site-packages\\numpy\\lib\\stride_tricks.py\u001b[0m in \u001b[0;36mbroadcast_to\u001b[1;34m(array, shape, subok)\u001b[0m\n\u001b[0;32m    409\u001b[0m            [1, 2, 3]])\n\u001b[0;32m    410\u001b[0m     \"\"\"\n\u001b[1;32m--> 411\u001b[1;33m     \u001b[1;32mreturn\u001b[0m \u001b[0m_broadcast_to\u001b[0m\u001b[1;33m(\u001b[0m\u001b[0marray\u001b[0m\u001b[1;33m,\u001b[0m \u001b[0mshape\u001b[0m\u001b[1;33m,\u001b[0m \u001b[0msubok\u001b[0m\u001b[1;33m=\u001b[0m\u001b[0msubok\u001b[0m\u001b[1;33m,\u001b[0m \u001b[0mreadonly\u001b[0m\u001b[1;33m=\u001b[0m\u001b[1;32mTrue\u001b[0m\u001b[1;33m)\u001b[0m\u001b[1;33m\u001b[0m\u001b[1;33m\u001b[0m\u001b[0m\n\u001b[0m\u001b[0;32m    412\u001b[0m \u001b[1;33m\u001b[0m\u001b[0m\n\u001b[0;32m    413\u001b[0m \u001b[1;33m\u001b[0m\u001b[0m\n",
      "\u001b[1;32m~\\anaconda3\\lib\\site-packages\\numpy\\lib\\stride_tricks.py\u001b[0m in \u001b[0;36m_broadcast_to\u001b[1;34m(array, shape, subok, readonly)\u001b[0m\n\u001b[0;32m    346\u001b[0m                          'negative')\n\u001b[0;32m    347\u001b[0m     \u001b[0mextras\u001b[0m \u001b[1;33m=\u001b[0m \u001b[1;33m[\u001b[0m\u001b[1;33m]\u001b[0m\u001b[1;33m\u001b[0m\u001b[1;33m\u001b[0m\u001b[0m\n\u001b[1;32m--> 348\u001b[1;33m     it = np.nditer(\n\u001b[0m\u001b[0;32m    349\u001b[0m         \u001b[1;33m(\u001b[0m\u001b[0marray\u001b[0m\u001b[1;33m,\u001b[0m\u001b[1;33m)\u001b[0m\u001b[1;33m,\u001b[0m \u001b[0mflags\u001b[0m\u001b[1;33m=\u001b[0m\u001b[1;33m[\u001b[0m\u001b[1;34m'multi_index'\u001b[0m\u001b[1;33m,\u001b[0m \u001b[1;34m'refs_ok'\u001b[0m\u001b[1;33m,\u001b[0m \u001b[1;34m'zerosize_ok'\u001b[0m\u001b[1;33m]\u001b[0m \u001b[1;33m+\u001b[0m \u001b[0mextras\u001b[0m\u001b[1;33m,\u001b[0m\u001b[1;33m\u001b[0m\u001b[1;33m\u001b[0m\u001b[0m\n\u001b[0;32m    350\u001b[0m         op_flags=['readonly'], itershape=shape, order='C')\n",
      "\u001b[1;31mValueError\u001b[0m: operands could not be broadcast together with remapped shapes [original->remapped]: (3,)  and requested shape (2,2)"
     ]
    }
   ],
   "source": [
    "# Example 3 - breaking (to illustrate when it breaks)\n",
    "np.pad(arr,(3,3,3), mode='constant', constant_values=0)"
   ]
  },
  {
   "cell_type": "markdown",
   "metadata": {
    "id": "VreR0XhL0ERN"
   },
   "source": [
    "We got the `ValueError` because the original array was of `2-d` but on `np.pad` function we were requesting to create a `3-d` array."
   ]
  },
  {
   "cell_type": "markdown",
   "metadata": {
    "id": "GnolW9i10ERO"
   },
   "source": [
    "So , when you want to pad an array you can always use `np.pad` function"
   ]
  },
  {
   "cell_type": "markdown",
   "metadata": {
    "id": "1p9yE4yQ0ERO"
   },
   "source": [
    "## Conclusion\n",
    "\n",
    "In this notebook, 5 functions of numpy are studied and experimented on different values. The functions are broken down to the cases where they show different types of errors and "
   ]
  }
 ],
 "metadata": {
  "colab": {
   "name": "numpy-array-operations.ipynb",
   "provenance": []
  },
  "kernelspec": {
   "display_name": "Python 3",
   "language": "python",
   "name": "python3"
  },
  "language_info": {
   "codemirror_mode": {
    "name": "ipython",
    "version": 3
   },
   "file_extension": ".py",
   "mimetype": "text/x-python",
   "name": "python",
   "nbconvert_exporter": "python",
   "pygments_lexer": "ipython3",
   "version": "3.8.8"
  }
 },
 "nbformat": 4,
 "nbformat_minor": 1
}
